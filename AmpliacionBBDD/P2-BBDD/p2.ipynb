{
 "cells": [
  {
   "cell_type": "markdown",
   "metadata": {},
   "source": [
    "## Importamos el ODM y comprobamos que todo se haya inicializado bien"
   ]
  },
  {
   "cell_type": "code",
   "execution_count": 98,
   "metadata": {},
   "outputs": [
    {
     "name": "stdout",
     "output_type": "stream",
     "text": [
      "Modelo inicializado\n"
     ]
    }
   ],
   "source": [
    "import ODM as odm\n",
    "import importlib\n",
    "importlib.reload(odm) #recargamos el modulo por si hemos cambiado algo en el archivo ODM.py\n",
    "\n",
    "models = odm.initApp()\n",
    "\n",
    "if models is not None:\n",
    "    print(\"Modelo inicializado\")\n",
    "    globals().update(models)"
   ]
  },
  {
   "cell_type": "markdown",
   "metadata": {},
   "source": [
    "## Insertamos los datos\n",
    "\n",
    "Para inicializar los datos"
   ]
  },
  {
   "cell_type": "code",
   "execution_count": 99,
   "metadata": {},
   "outputs": [],
   "source": [
    "#Insertar los siguientes comandos en la Terminal\n",
    "#mongoimport --db abd --collection Cliente --file Cliente.json --jsonArray\n",
    "#mongoimport --db abd --collection Producto --file Producto.json --jsonArray\n",
    "#mongoimport --db abd --collection Compra --file Compra.json --jsonArray\n",
    "#mongoimport --db abd --collection Proveedor --file Proveedor.json --jsonArray"
   ]
  },
  {
   "cell_type": "markdown",
   "metadata": {},
   "source": [
    "## 1.\tListado de todas las compras de un cliente"
   ]
  },
  {
   "cell_type": "code",
   "execution_count": 100,
   "metadata": {},
   "outputs": [
    {
     "name": "stdout",
     "output_type": "stream",
     "text": [
      "Compras de Alice\n",
      "Precio: 1709.46 | Direccion de Envio: {'type': 'Point', 'coordinates': [-73.992285, 40.737871]}\n",
      "Precio: 1478.47 | Direccion de Envio: {'type': 'Point', 'coordinates': [-73.992285, 40.737871]}\n",
      "Precio: 1299.97 | Direccion de Envio: {'type': 'Point', 'coordinates': [-73.992285, 40.737871]}\n",
      "\n",
      "\n",
      "Compras de Nicolas\n",
      "Precio: 1428.97 | Direccion de Envio: {'type': 'Point', 'coordinates': [-122.084614, 37.421764]}\n",
      "Precio: 2249.96 | Direccion de Envio: {'type': 'Point', 'coordinates': [-122.084614, 37.421764]}\n",
      "Precio: 1948.97 | Direccion de Envio: {'type': 'Point', 'coordinates': [-122.084614, 37.421764]}\n",
      "\n",
      "\n"
     ]
    }
   ],
   "source": [
    "#USAR NICOLAS Y ALICE\n",
    "\n",
    "def lista_compras_cliente(nombre_cliente = \"Nicolas\"):\n",
    "\n",
    "    pipeline = [\n",
    "\n",
    "        {\n",
    "            \"$match\": {\n",
    "                \"cliente\" : nombre_cliente\n",
    "            } \n",
    "        },\n",
    "        {\n",
    "            \"$project\": {\n",
    "                \"precio_compra\": 1,        \n",
    "                \"direccion_envio\": 1,      \n",
    "            }\n",
    "        }\n",
    "\n",
    "    ]\n",
    "\n",
    "    aggregate_res = Compra.aggregate(pipeline)\n",
    "\n",
    "    print(f\"Compras de {nombre_cliente}\")\n",
    "    for compra in aggregate_res:\n",
    "\n",
    "        print(f\"Precio: {compra['precio_compra']} | Direccion de Envio: {compra['direccion_envio']}\")\n",
    "    print('\\n')\n",
    "\n",
    "\n",
    "nombre_cliente = \"Alice\"\n",
    "lista_compras_cliente(nombre_cliente)\n",
    "lista_compras_cliente()\n"
   ]
  },
  {
   "cell_type": "markdown",
   "metadata": {},
   "source": [
    "## 2.\tListado de todos los proveedores para un producto."
   ]
  },
  {
   "cell_type": "code",
   "execution_count": 101,
   "metadata": {},
   "outputs": [
    {
     "name": "stdout",
     "output_type": "stream",
     "text": [
      "Proveedores de 12345678\n",
      "Nombre del producto: Laptop | Proveedores: Digital World\n",
      "\n",
      "\n",
      "Proveedores de 87654321\n",
      "Nombre del producto: Smartphone | Proveedores: Gadgets R Us\n",
      "\n",
      "\n"
     ]
    }
   ],
   "source": [
    "def obtener_proveedores_producto(codigo_producto = 12345678):\n",
    "\n",
    "    pipeline = [\n",
    "\n",
    "        {\n",
    "            \"$match\": {\n",
    "                \"codigo_del_producto\" : codigo_producto\n",
    "            } \n",
    "        },\n",
    "        {\n",
    "            \"$project\": {  \n",
    "                \"nombre\": 1,\n",
    "                \"proveedores\": 1     \n",
    "            }\n",
    "        }\n",
    "\n",
    "    ]\n",
    "\n",
    "    aggregate_res = Producto.aggregate(pipeline)\n",
    "\n",
    "    print(f\"Proveedores de {codigo_producto}\")\n",
    "    for producto in aggregate_res:\n",
    "\n",
    "        print(f\"Nombre del producto: {producto['nombre']} | Proveedores: {producto['proveedores']}\")\n",
    "    print('\\n')\n",
    "\n",
    "obtener_proveedores_producto()\n",
    "\n",
    "codigo_producto = 87654321\n",
    "obtener_proveedores_producto(codigo_producto = codigo_producto)\n"
   ]
  },
  {
   "cell_type": "markdown",
   "metadata": {},
   "source": [
    "## 3.\tListado de todos los productos diferentes comprados por un cliente"
   ]
  },
  {
   "cell_type": "code",
   "execution_count": 102,
   "metadata": {},
   "outputs": [
    {
     "name": "stdout",
     "output_type": "stream",
     "text": [
      "Productos comprados por Alice\n",
      "Codigo del producto: 87654321 | Nombre: Smartphone | Precio: 899.99\n",
      "Codigo del producto: 78901234 | Nombre: Monitor LED | Precio: 599.99\n",
      "Codigo del producto: 23456789 | Nombre: Auriculares Bluetooth | Precio: 129.49\n",
      "Codigo del producto: 12345678 | Nombre: Laptop | Precio: 199.99\n",
      "Codigo del producto: 67890123 | Nombre: camiseta manga corta | Precio: 79.99\n",
      "Codigo del producto: 98765432 | Nombre: Televisor 4K | Precio: 499.99\n",
      "Codigo del producto: 34567890 | Nombre: Reloj inteligente | Precio: 249.0\n",
      "\n",
      "\n",
      "Productos comprados por Nicolas\n",
      "Codigo del producto: 67890123 | Nombre: camiseta manga corta | Precio: 79.99\n",
      "Codigo del producto: 98765432 | Nombre: Televisor 4K | Precio: 499.99\n",
      "Codigo del producto: 78901234 | Nombre: Monitor LED | Precio: 599.99\n",
      "Codigo del producto: 12345678 | Nombre: Laptop | Precio: 199.99\n",
      "Codigo del producto: 87654321 | Nombre: Smartphone | Precio: 899.99\n",
      "Codigo del producto: 34567890 | Nombre: Reloj inteligente | Precio: 249.0\n",
      "Codigo del producto: 56789012 | Nombre: Tablet | Precio: 199.99\n",
      "\n",
      "\n"
     ]
    }
   ],
   "source": [
    "def lista_productos_comprados(nombre_cliente=\"Nicolas\"):\n",
    "\n",
    "    pipeline = [\n",
    "\n",
    "        {\n",
    "            \"$match\": {\n",
    "                \"cliente\": nombre_cliente\n",
    "            }\n",
    "        },\n",
    "        {\n",
    "            \"$unwind\": \"$productos\"\n",
    "        },\n",
    "        {\n",
    "            \"$lookup\": {\n",
    "                \"from\": \"Producto\",\n",
    "                \"localField\": \"productos\",\n",
    "                \"foreignField\": \"codigo_del_producto\",\n",
    "                \"as\": \"producto_info\"\n",
    "            }\n",
    "        },\n",
    "        {\n",
    "            \"$unwind\": \"$producto_info\"\n",
    "        },\n",
    "        {\n",
    "            \"$group\": {\n",
    "                \"_id\":\"$productos\",\n",
    "                \"nombre_producto\": { \"$first\": \"$producto_info.nombre\" },\n",
    "                \"precio\": { \"$first\": \"$producto_info.precio_con_iva\" }\n",
    "                }\n",
    "        },\n",
    "        {\n",
    "            \"$project\": {\n",
    "                \"codigo_del_producto\": \"$_id\",\n",
    "                \"nombre_producto\": \"$nombre_producto\",\n",
    "                \"precio\": \"$precio\"\n",
    "            }\n",
    "        }\n",
    "    ]\n",
    "\n",
    "    aggregate_res = Compra.aggregate(pipeline)\n",
    "\n",
    "    print(f\"Productos comprados por {nombre_cliente}\")\n",
    "    for producto in aggregate_res:\n",
    "        print(f\"Codigo del producto: {producto['codigo_del_producto']} | Nombre: {producto['nombre_producto']} | Precio: {producto['precio']}\")\n",
    "\n",
    "    print('\\n')\n",
    "\n",
    "lista_productos_comprados(nombre_cliente = \"Alice\")\n",
    "lista_productos_comprados()"
   ]
  },
  {
   "cell_type": "markdown",
   "metadata": {},
   "source": [
    "## 4.\tListado de productos vendidos por “Modas Paqui” cuyo nombre contenga “manga corta”."
   ]
  },
  {
   "cell_type": "code",
   "execution_count": 103,
   "metadata": {},
   "outputs": [
    {
     "name": "stdout",
     "output_type": "stream",
     "text": [
      "Producto vendidos por Modas Paqui de manga corta\n",
      "Codigo del producto: 67890123 | Nombre: camiseta manga corta | Precio: 79.99\n"
     ]
    }
   ],
   "source": [
    "def lista_productos_paqui():\n",
    "\n",
    "    pipeline = [\n",
    "\n",
    "        {\n",
    "            \"$match\": {\n",
    "                \"proveedores\": \"Modas Paqui\",\n",
    "                \"nombre\": {\"$regex\": \"manga corta\"}\n",
    "            }\n",
    "        },\n",
    "        {\n",
    "            \"$project\": {\n",
    "                \"codigo_del_producto\": 1,\n",
    "                \"nombre\": 1,\n",
    "                \"precio_con_iva\": 1\n",
    "            } \n",
    "        }\n",
    "    ]   \n",
    "\n",
    "    res_aggregate = Producto.aggregate(pipeline)\n",
    "    \n",
    "    print(\"Producto vendidos por Modas Paqui de manga corta\")\n",
    "\n",
    "    for product in res_aggregate:\n",
    "\n",
    "        print(f\"Codigo del producto: {product['codigo_del_producto']} | Nombre: {product['nombre']} | Precio: {product['precio_con_iva']}\")\n",
    "\n",
    "lista_productos_paqui()"
   ]
  },
  {
   "cell_type": "markdown",
   "metadata": {},
   "source": [
    "## 5.\tCalcular el peso y volumen total de los productos comprados por un cliente un día determinado."
   ]
  },
  {
   "cell_type": "code",
   "execution_count": 104,
   "metadata": {},
   "outputs": [
    {
     "name": "stdout",
     "output_type": "stream",
     "text": [
      "Productos comprados por Nicolas el dia 15-10-2024\n",
      "Nombre del producto: Smartphone | Peso: 0.36 kg | Volumen: 0.38709 m^3\n",
      "Nombre del producto: Reloj inteligente | Peso: 1.37 kg | Volumen: 0.12648 m^3\n",
      "Nombre del producto: Tablet | Peso: 0.49 kg | Volumen: 0.267138 m^3\n",
      "Nombre del producto: camiseta manga corta | Peso: 4.67 kg | Volumen: 0.349272 m^3\n",
      "Nombre del producto: Smartphone | Peso: 0.36 kg | Volumen: 0.38709 m^3\n",
      "Nombre del producto: Televisor 4K | Peso: 1.34 kg | Volumen: 0.076912 m^3\n",
      "Nombre del producto: Reloj inteligente | Peso: 1.37 kg | Volumen: 0.12648 m^3\n",
      "Nombre del producto: Monitor LED | Peso: 4.46 kg | Volumen: 0.099072 m^3\n",
      "\n",
      "--- Totales ---\n",
      "Peso total: 14.420000000000002 kg\n",
      "Volumen total: 1.819534 m^3\n"
     ]
    }
   ],
   "source": [
    "def calcular_volumen(dimensiones):\n",
    "    # Eliminar \"cm\" y dividir la cadena en las tres dimensiones\n",
    "    dim_list = dimensiones.replace(\" cm\", \"\").split(\"x\")\n",
    "    \n",
    "    # Convertir cada dimensión a un número flotante\n",
    "    largo, ancho, alto = map(float, dim_list)\n",
    "    \n",
    "    # Calcular el volumen\n",
    "    volumen = largo * ancho * alto\n",
    "    \n",
    "    return volumen\n",
    "\n",
    "def volumen_peso_producto(nombre_cliente = \"Nicolas\", fecha_compra = \"15-10-2024\"):\n",
    "\n",
    "    pipeline = [\n",
    "\n",
    "        {\n",
    "            \"$match\": {\n",
    "                \"cliente\": nombre_cliente,\n",
    "                \"fecha_compra\": fecha_compra\n",
    "            }\n",
    "        },\n",
    "        {\n",
    "            \"$lookup\":{\n",
    "                \"from\": \"Producto\",\n",
    "                \"localField\": \"productos\",\n",
    "                \"foreignField\": \"codigo_del_producto\",\n",
    "                \"as\": \"producto_info\"\n",
    "            }\n",
    "        },\n",
    "        {\n",
    "            \"$unwind\": \"$producto_info\"\n",
    "        },\n",
    "        {\n",
    "            \"$project\":{\n",
    "                \"nombre\": \"$producto_info.nombre\",\n",
    "                \"peso\": \"$producto_info.peso\",\n",
    "                \"dimensiones\": \"$producto_info.dimensiones\"\n",
    "            }\n",
    "        }\n",
    "\n",
    "    ]\n",
    "\n",
    "    res_aggregate = Compra.aggregate(pipeline)\n",
    "\n",
    "    peso_total = 0\n",
    "    volumen_total = 0\n",
    "\n",
    "    print(f\"Productos comprados por {nombre_cliente} el dia {fecha_compra}\")\n",
    "\n",
    "    for producto in res_aggregate:\n",
    "        volumen = calcular_volumen(producto['dimensiones'])\n",
    "        peso_total += producto['peso']\n",
    "        volumen_total += volumen\n",
    "        print(f\"Nombre del producto: {producto['nombre']} | Peso: {producto['peso']} kg | Volumen: {volumen/1000000} m^3\")\n",
    "\n",
    "    print(\"\\n--- Totales ---\")\n",
    "    print(f\"Peso total: {peso_total} kg\")\n",
    "    print(f\"Volumen total: {volumen_total/1000000} m^3\")\n",
    "\n",
    "\n",
    "\n",
    "volumen_peso_producto()"
   ]
  },
  {
   "cell_type": "markdown",
   "metadata": {},
   "source": [
    "## 6.\tCalcular el número medio de envíos por mes y almacén."
   ]
  },
  {
   "cell_type": "code",
   "execution_count": 105,
   "metadata": {},
   "outputs": [
    {
     "name": "stdout",
     "output_type": "stream",
     "text": [
      "Promedio de envíos por mes y almacén:\n",
      "\n",
      "Almacén: Depósito Urbano | Promedio de envíos por mes: 1.00\n",
      "Almacén: Almacenaje Rápido | Promedio de envíos por mes: 1.00\n",
      "Almacén: Mercado Central | Promedio de envíos por mes: 1.00\n",
      "Almacén: Bodega Estrella | Promedio de envíos por mes: 1.71\n",
      "Almacén: Bodega del Vecino | Promedio de envíos por mes: 1.29\n",
      "Almacén: Centro de Ofertas | Promedio de envíos por mes: 1.00\n",
      "Almacén: Surtido Selecto | Promedio de envíos por mes: 1.00\n",
      "Almacén: Espacio de Compras | Promedio de envíos por mes: 1.00\n"
     ]
    }
   ],
   "source": [
    "def numero_medio_envios_por_mes():\n",
    "    pipeline = [\n",
    "\n",
    "        {\n",
    "            \"$lookup\": {\n",
    "                \"from\": \"Producto\",\n",
    "                \"localField\": \"productos\",\n",
    "                \"foreignField\": \"codigo_del_producto\",\n",
    "                \"as\": \"producto_info\"\n",
    "            }\n",
    "        },\n",
    "        {\n",
    "            \"$unwind\": \"$producto_info\"\n",
    "        },\n",
    "        {\n",
    "            \"$addFields\": {\n",
    "                \"mes\": {\"$month\": {\"$dateFromString\": {\"dateString\": \"$fecha_compra\", \"format\": \"%d-%m-%Y\"}}},\n",
    "            }\n",
    "        },\n",
    "        {\n",
    "            \"$group\": {\n",
    "                \"_id\": {\n",
    "                    \"almacen\": \"$producto_info.almacenes\",\n",
    "                    \"mes\": \"$mes\",\n",
    "                },\n",
    "                \"num_envios\": {\"$sum\": 1}\n",
    "            }\n",
    "        },\n",
    "        {\n",
    "            \"$group\": {\n",
    "                \"_id\": \"$_id.almacen\",\n",
    "                \"promedio_envios_por_mes\": {\"$avg\": \"$num_envios\"}\n",
    "            }\n",
    "        }\n",
    "\n",
    "    ]\n",
    "\n",
    "    res_aggregate = Compra.aggregate(pipeline)\n",
    "\n",
    "    print(\"Promedio de envíos por mes y almacén:\\n\")\n",
    "    for almacen in res_aggregate:\n",
    "        print(f\"Almacén: {almacen['_id']} | Promedio de envíos por mes: {almacen['promedio_envios_por_mes']:.2f}\")\n",
    "\n",
    "numero_medio_envios_por_mes()\n"
   ]
  },
  {
   "cell_type": "markdown",
   "metadata": {},
   "source": [
    "## 7.\tListado con los tres proveedores con más volumen de facturación. Mostrar proveedor y volumen de facturación."
   ]
  },
  {
   "cell_type": "code",
   "execution_count": 106,
   "metadata": {},
   "outputs": [
    {
     "name": "stdout",
     "output_type": "stream",
     "text": [
      "Top 3 proveedores:\n",
      "\n",
      "Proveedor: Gadgets R Us | facturacion: 6893.9400000000005\n",
      "Proveedor: Modas Paqui | facturacion: 2799.91\n",
      "Proveedor: Global Tech Supply | facturacion: 2499.95\n"
     ]
    }
   ],
   "source": [
    "def top3_proveedores():\n",
    "\n",
    "    pipeline = [\n",
    "\n",
    "        {\n",
    "            \"$lookup\": {\n",
    "                \"from\": \"Producto\",\n",
    "                \"localField\": \"productos\",\n",
    "                \"foreignField\": \"codigo_del_producto\",\n",
    "                \"as\": \"producto_info\"\n",
    "            }\n",
    "        },\n",
    "        {\n",
    "            \"$unwind\": \"$producto_info\"\n",
    "        },\n",
    "        {\n",
    "            \"$group\" : {\n",
    "                \"_id\": \"$producto_info.proveedores\",\n",
    "                \"facturacion\": {\"$sum\": \"$producto_info.precio_con_iva\"}\n",
    "            }  \n",
    "        },\n",
    "        {\n",
    "            \"$sort\":{\n",
    "                \"facturacion\": -1\n",
    "            }\n",
    "        },\n",
    "        {\n",
    "            \"$limit\": 3\n",
    "        }\n",
    "\n",
    "    ]\n",
    "\n",
    "    res_aggregate = Compra.aggregate(pipeline)\n",
    "\n",
    "    print(\"Top 3 proveedores:\\n\")\n",
    "    for proveedor in res_aggregate:\n",
    "        print(f\"Proveedor: {proveedor[\"_id\"]} | facturacion: {proveedor[\"facturacion\"]}\")\n",
    "\n",
    "top3_proveedores()"
   ]
  },
  {
   "cell_type": "markdown",
   "metadata": {},
   "source": [
    "## 8.\tListado de almacenes cerca de unas coordenadas determinadas (100km de distancia máxima) ordenadas por orden de distancia."
   ]
  },
  {
   "cell_type": "code",
   "execution_count": 107,
   "metadata": {},
   "outputs": [
    {
     "name": "stdout",
     "output_type": "stream",
     "text": [
      "Distancia almacenes a longitud: -103.92298, latitud: 33.7 (Maximo 100km)\n",
      "\n",
      "Almacen: Modas Paqui | distancia al punto: 12.88 km\n"
     ]
    }
   ],
   "source": [
    "def almacenes_cercanos(longitud=-103.922980, latitud=33.7):\n",
    "    pipeline = [\n",
    "        {\n",
    "            \"$geoNear\": {\n",
    "                \"near\": { \n",
    "                    \"type\": \"Point\", \n",
    "                    \"coordinates\": [longitud, latitud]\n",
    "                },\n",
    "                \"distanceField\": \"direccion_almacenes\",\n",
    "                \"maxDistance\": 100000,\n",
    "                \"spherical\": True\n",
    "            }\n",
    "        }\n",
    "    ]\n",
    "\n",
    "    res_aggregate = Proveedor.aggregate(pipeline)\n",
    "\n",
    "    print(f\"Distancia almacenes a longitud: {longitud}, latitud: {latitud} (Maximo 100km)\\n\")\n",
    "    for proveedor in res_aggregate:\n",
    "    \n",
    "        distancia_km = proveedor['direccion_almacenes'] / 1000\n",
    "        print(f\"Almacen: {proveedor['nombre']} | distancia al punto: {distancia_km:.2f} km\")\n",
    "\n",
    "almacenes_cercanos()"
   ]
  },
  {
   "cell_type": "markdown",
   "metadata": {},
   "source": [
    "## 9.\tListado de compras con destino dentro de un polígono cuyos vértices vienen definidos por coordenadas."
   ]
  },
  {
   "cell_type": "code",
   "execution_count": 108,
   "metadata": {},
   "outputs": [
    {
     "name": "stdout",
     "output_type": "stream",
     "text": [
      "Compras dentro del polígono:\n",
      "\n",
      "Cliente: Nicolas | Direccion de envio: {'type': 'Point', 'coordinates': [-122.084614, 37.421764]} | Precio: 1948.97\n",
      "Cliente: Nicolas | Direccion de envio: {'type': 'Point', 'coordinates': [-122.084614, 37.421764]} | Precio: 1428.97\n",
      "Cliente: Nicolas | Direccion de envio: {'type': 'Point', 'coordinates': [-122.084614, 37.421764]} | Precio: 2249.96\n"
     ]
    }
   ],
   "source": [
    "def compras_en_poligono(vertices):\n",
    "    \n",
    "    poligono = {\n",
    "        \"type\": \"Polygon\",\n",
    "        \"coordinates\": [vertices]\n",
    "    }\n",
    "\n",
    "    pipeline = [\n",
    "\n",
    "        {\n",
    "            \"$geoNear\": {\n",
    "                \"near\": {\n",
    "                    \"type\": \"Point\",\n",
    "                    \"coordinates\": [0, 0]  # Este valor no se usa, solo para cumplir la estructura\n",
    "                },\n",
    "                \"distanceField\": \"distance\",\n",
    "                \"spherical\": True,\n",
    "                \"query\": {\n",
    "                    \"direccion_envio\": {  \n",
    "                        \"$geoWithin\": {\n",
    "                            \"$geometry\": poligono\n",
    "                        }\n",
    "                    }\n",
    "                }\n",
    "            }\n",
    "        }\n",
    "    ]\n",
    "\n",
    "    res_aggregate = Compra.aggregate(pipeline)\n",
    "\n",
    "    print(\"Compras dentro del polígono:\\n\")\n",
    "    for compra in res_aggregate:\n",
    "        print(f\"Cliente: {compra['cliente']} | Direccion de envio: {compra['direccion_envio']} | Precio: {compra['precio_compra']}\")\n",
    "\n",
    "vertices_poligono = [\n",
    "    [-123.0, 37.5],  \n",
    "    [-121.5, 37.5],  \n",
    "    [-121.5, 37.2],  \n",
    "    [-123.0, 37.2],  \n",
    "    [-123.0, 37.5]   \n",
    "]\n",
    "\n",
    "compras_en_poligono(vertices_poligono)"
   ]
  },
  {
   "cell_type": "markdown",
   "metadata": {},
   "source": [
    "## 10.\tGuardar en una tabla nueva el listado de compras que tienen que ser enviados desde un almacén en un día determinado."
   ]
  },
  {
   "cell_type": "code",
   "execution_count": 109,
   "metadata": {},
   "outputs": [],
   "source": [
    "\n",
    "def guardar_compras_por_fecha(fecha_envio: str):\n",
    "\n",
    "    pipeline = [\n",
    "        {\n",
    "            \"$match\": {\n",
    "                \"fecha_compra\": fecha_envio  \n",
    "            }\n",
    "        },\n",
    "        {\n",
    "            \"$project\": {\n",
    "                \"_id\": 0, \n",
    "                \"cliente\": \"$nombre\",  \n",
    "                \"direccion_envio\": \"$direccion_envio\",\n",
    "                \"precio_compra\": \"$precio_compra\",\n",
    "                \"productos\": \"$productos\",\n",
    "                \"fecha_compra\": \"$fecha_compra\"\n",
    "            }\n",
    "        },\n",
    "        {\n",
    "            \"$out\": \"Compras_dia_determinado\"  \n",
    "        }\n",
    "    ]\n",
    "    \n",
    "    Compra.aggregate(pipeline)  \n",
    "\n",
    "\n",
    "guardar_compras_por_fecha(\"28-08-2024\")\n"
   ]
  }
 ],
 "metadata": {
  "kernelspec": {
   "display_name": "base",
   "language": "python",
   "name": "python3"
  },
  "language_info": {
   "codemirror_mode": {
    "name": "ipython",
    "version": 3
   },
   "file_extension": ".py",
   "mimetype": "text/x-python",
   "name": "python",
   "nbconvert_exporter": "python",
   "pygments_lexer": "ipython3",
   "version": "3.12.2"
  }
 },
 "nbformat": 4,
 "nbformat_minor": 2
}
